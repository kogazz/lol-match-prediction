{
 "cells": [
  {
   "cell_type": "code",
   "execution_count": 1,
   "metadata": {},
   "outputs": [],
   "source": [
    "import pandas as pd\n",
    "import matplotlib.pyplot as plt\n",
    "import seaborn as sns\n",
    "import numpy as np\n",
    "from sklearn.model_selection import train_test_split\n",
    "from sklearn.ensemble import RandomForestClassifier\n",
    "from sklearn.preprocessing import StandardScaler\n",
    "from sklearn.metrics import confusion_matrix, roc_curve, auc, classification_report"
   ]
  },
  {
   "cell_type": "code",
   "execution_count": null,
   "metadata": {},
   "outputs": [],
   "source": [
    "# Carregar o dataset\n",
    "df = pd.read_csv(r\"C:\\Users\\koga1\\Documents\\ml_league\\ml_league\\data\\League of Legends Ranked Match Data  Season 15 (EUN).csv\")\n",
    "\n",
    "# Exibir informações gerais do dataset\n",
    "df.info()\n",
    "df.head()"
   ]
  },
  {
   "cell_type": "code",
   "execution_count": null,
   "metadata": {},
   "outputs": [],
   "source": [
    "# Verificar a distribuição da variável alvo (win)\n",
    "plt.figure(figsize=(6, 4))\n",
    "sns.countplot(x=df['win'], palette='Blues')\n",
    "plt.xlabel(\"Resultado\")\n",
    "plt.ylabel(\"Número de Partidas\")\n",
    "plt.title(\"Distribuição de Vitórias e Derrotas\")\n",
    "plt.xticks([0, 1], [\"Derrota\", \"Vitória\"])\n",
    "plt.show()"
   ]
  },
  {
   "cell_type": "code",
   "execution_count": null,
   "metadata": {},
   "outputs": [],
   "source": [
    "# Selecionar colunas relevantes para a modelagem\n",
    "selected_columns = [\"win\", \"solo_lp\", \"solo_losses\", \"mastery_points\"]\n",
    "df_selected = df[selected_columns].dropna()\n",
    "\n",
    "# Exibir estatísticas descritivas\n",
    "df_selected.describe()"
   ]
  },
  {
   "cell_type": "code",
   "execution_count": null,
   "metadata": {},
   "outputs": [],
   "source": [
    "# Transformar a variável alvo (win) para valores binários\n",
    "df_selected[\"win\"] = df_selected[\"win\"].astype(int)"
   ]
  },
  {
   "cell_type": "code",
   "execution_count": null,
   "metadata": {},
   "outputs": [],
   "source": [
    "# Analisar a correlação entre as variáveis\n",
    "plt.figure(figsize=(6, 4))\n",
    "sns.heatmap(df_selected.corr(), annot=True, cmap=\"coolwarm\", fmt=\".2f\")\n",
    "plt.title(\"Correlação entre as Variáveis\")\n",
    "plt.show()\n",
    "\n",
    "# Separar dados para treino e teste\n",
    "X = df_selected.drop(columns=[\"win\"])\n",
    "y = df_selected[\"win\"]\n",
    "\n",
    "# Normalizar os dados\n",
    "scaler = StandardScaler()\n",
    "X_scaled = scaler.fit_transform(X)\n",
    "\n",
    "X_train, X_test, y_train, y_test = train_test_split(X_scaled, y, test_size=0.2, random_state=42)\n",
    "\n",
    "# Treinar o modelo\n",
    "model = RandomForestClassifier(n_estimators=100, random_state=42)\n",
    "model.fit(X_train, y_train)\n",
    "\n",
    "# Fazer previsões\n",
    "y_pred = model.predict(X_test)\n",
    "y_prob = model.predict_proba(X_test)[:, 1]\n",
    "\n",
    "# Avaliação do modelo\n",
    "accuracy = (y_pred == y_test).mean()\n",
    "print(f\"Acurácia do Modelo: {accuracy:.2f}\")\n",
    "print(\"Relatório de Classificação:\")\n",
    "print(classification_report(y_test, y_pred))\n",
    "\n",
    "# Gerar Matriz de Confusão\n",
    "cm = confusion_matrix(y_test, y_pred)\n",
    "plt.figure(figsize=(6, 4))\n",
    "sns.heatmap(cm, annot=True, fmt=\"d\", cmap=\"Blues\", xticklabels=[\"Derrota\", \"Vitória\"], yticklabels=[\"Derrota\", \"Vitória\"])\n",
    "plt.xlabel(\"Previsões\")\n",
    "plt.ylabel(\"Valores Reais\")\n",
    "plt.title(\"Matriz de Confusão\")\n",
    "plt.show()\n",
    "\n",
    "# Gerar Curva ROC\n",
    "fpr, tpr, _ = roc_curve(y_test, y_prob)\n",
    "roc_auc = auc(fpr, tpr)\n",
    "plt.figure(figsize=(6, 4))\n",
    "plt.plot(fpr, tpr, color=\"blue\", lw=2, label=f\"AUC = {roc_auc:.2f}\")\n",
    "plt.plot([0, 1], [0, 1], color=\"grey\", linestyle=\"--\")\n",
    "plt.xlabel(\"Falsos Positivos\")\n",
    "plt.ylabel(\"Verdadeiros Positivos\")\n",
    "plt.title(\"Curva ROC\")\n",
    "plt.legend()\n",
    "plt.show()\n",
    "\n",
    "# Importância das Variáveis\n",
    "importances = model.feature_importances_\n",
    "features = X.columns\n",
    "plt.figure(figsize=(6, 4))\n",
    "sns.barplot(x=importances, y=features, palette=\"Blues\")\n",
    "plt.xlabel(\"Importância\")\n",
    "plt.title(\"Importância das Variáveis para a Previsão\")\n",
    "plt.show()"
   ]
  }
 ],
 "metadata": {
  "kernelspec": {
   "display_name": "Python 3 (ipykernel)",
   "language": "python",
   "name": "python3"
  },
  "language_info": {
   "codemirror_mode": {
    "name": "ipython",
    "version": 3
   },
   "file_extension": ".py",
   "mimetype": "text/x-python",
   "name": "python",
   "nbconvert_exporter": "python",
   "pygments_lexer": "ipython3",
   "version": "3.11.5"
  }
 },
 "nbformat": 4,
 "nbformat_minor": 4
}
